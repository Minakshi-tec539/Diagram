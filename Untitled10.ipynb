{
  "nbformat": 4,
  "nbformat_minor": 0,
  "metadata": {
    "colab": {
      "provenance": [],
      "authorship_tag": "ABX9TyM01sQptRM5DhT6zJWi3yH9",
      "include_colab_link": true
    },
    "kernelspec": {
      "name": "python3",
      "display_name": "Python 3"
    },
    "language_info": {
      "name": "python"
    }
  },
  "cells": [
    {
      "cell_type": "markdown",
      "metadata": {
        "id": "view-in-github",
        "colab_type": "text"
      },
      "source": [
        "<a href=\"https://colab.research.google.com/github/Minakshi-tec539/Diagram/blob/main/Untitled10.ipynb\" target=\"_parent\"><img src=\"https://colab.research.google.com/assets/colab-badge.svg\" alt=\"Open In Colab\"/></a>"
      ]
    },
    {
      "cell_type": "code",
      "execution_count": null,
      "metadata": {
        "id": "8gt9vhuB7fbF"
      },
      "outputs": [],
      "source": [
        "#Display the division\n",
        "print('The division of {0} and {1} is {2}' .format(num1, num2, div))\n"
      ]
    },
    {
      "cell_type": "code",
      "source": [
        "# Creating a Dictionary #Unordered collection that\n",
        "#contains value pairs separted commasinside curly brackets\n",
        "Dict = {'Name': 'Geeks', 1:[1,2,3,4]}\n",
        "print(\"Creating a Dictionary:\")\n",
        "print(Dict)\n"
      ],
      "metadata": {
        "colab": {
          "base_uri": "https://localhost:8080/"
        },
        "id": "v6MvvmLn8k6y",
        "outputId": "2bafc81a-602b-41f9-8efe-97709f67ad4f"
      },
      "execution_count": 2,
      "outputs": [
        {
          "output_type": "stream",
          "name": "stdout",
          "text": [
            "Creating a Dictionary:\n",
            "{'Name': 'Geeks', 1: [1, 2, 3, 4]}\n"
          ]
        }
      ]
    },
    {
      "cell_type": "code",
      "source": [
        "my_dict = {'First': 'Python', 'Second': 'Java' }\n",
        "print(my_dict['First']) #access element using the keys\n",
        "print(my_dict.get('Second'))"
      ],
      "metadata": {
        "colab": {
          "base_uri": "https://localhost:8080/"
        },
        "id": "m5kkO3V09gvi",
        "outputId": "dacb1b29-2fb8-47d2-a5e4-d7e7a9eeb62b"
      },
      "execution_count": 4,
      "outputs": [
        {
          "output_type": "stream",
          "name": "stdout",
          "text": [
            "Python\n",
            "Java\n"
          ]
        }
      ]
    }
  ]
}