{
  "nbformat": 4,
  "nbformat_minor": 0,
  "metadata": {
    "colab": {
      "provenance": [],
      "authorship_tag": "ABX9TyO1v0/xJ/vMPE9Fzx3IvjXm",
      "include_colab_link": true
    },
    "kernelspec": {
      "name": "python3",
      "display_name": "Python 3"
    },
    "language_info": {
      "name": "python"
    }
  },
  "cells": [
    {
      "cell_type": "markdown",
      "metadata": {
        "id": "view-in-github",
        "colab_type": "text"
      },
      "source": [
        "<a href=\"https://colab.research.google.com/github/Minakshi-tec539/Diagram/blob/main/Untitled12.ipynb\" target=\"_parent\"><img src=\"https://colab.research.google.com/assets/colab-badge.svg\" alt=\"Open In Colab\"/></a>"
      ]
    },
    {
      "cell_type": "code",
      "execution_count": 1,
      "metadata": {
        "colab": {
          "base_uri": "https://localhost:8080/"
        },
        "id": "YLRDYnATHOQ_",
        "outputId": "4afe5366-9a4a-4521-9d81-1f0edd14628f"
      },
      "outputs": [
        {
          "output_type": "stream",
          "name": "stdout",
          "text": [
            "Enter the number:6\n",
            "6 is even number\n"
          ]
        }
      ],
      "source": [
        "#python Program to check whether a number is odd or even\n",
        "num=int(input(\"Enter the number:\"))\n",
        "if(num%2)==0:\n",
        "  print(num,\"is even number\")\n",
        "else:\n",
        "  print(num,\"is odd number\")"
      ]
    },
    {
      "cell_type": "code",
      "source": [
        "6%2==0\n",
        "0==0 - True\n",
        "print (even)\n",
        "\n"
      ],
      "metadata": {
        "id": "N5dWN9CCHtJ9"
      },
      "execution_count": null,
      "outputs": []
    }
  ]
}