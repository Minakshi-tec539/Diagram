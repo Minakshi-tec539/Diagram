{
  "nbformat": 4,
  "nbformat_minor": 0,
  "metadata": {
    "colab": {
      "provenance": [],
      "authorship_tag": "ABX9TyM0ygt8AsEt03y+sS2Jma2G",
      "include_colab_link": true
    },
    "kernelspec": {
      "name": "python3",
      "display_name": "Python 3"
    },
    "language_info": {
      "name": "python"
    }
  },
  "cells": [
    {
      "cell_type": "markdown",
      "metadata": {
        "id": "view-in-github",
        "colab_type": "text"
      },
      "source": [
        "<a href=\"https://colab.research.google.com/github/Minakshi-tec539/Diagram/blob/main/Untitled14.ipynb\" target=\"_parent\"><img src=\"https://colab.research.google.com/assets/colab-badge.svg\" alt=\"Open In Colab\"/></a>"
      ]
    },
    {
      "cell_type": "code",
      "execution_count": 1,
      "metadata": {
        "id": "azYzASXPGSi2"
      },
      "outputs": [],
      "source": [
        "#panda is for data analysis and to import the dataset etc\n",
        "# in c - stdio.h C++ iostream.h java- awt, swing, rmi etc\n",
        "# Panda is a package (group of methods) library\n"
      ]
    },
    {
      "cell_type": "code",
      "source": [
        "import pandas as pd\n",
        "df1=pd.DataFrame ({'A':[1, 2, 3]}, index=['a', 'b','c'])\n",
        "df2=pd.DataFrame ({'B': [4, 5, 6]}, index=['a','b','c'])\n",
        "print(df1, \"\\n\")\n",
        "print(df2, \"\\n\")\n",
        "#join the index\n",
        "res=df1.join(df2, how= 'outer')\n",
        "print(res)"
      ],
      "metadata": {
        "colab": {
          "base_uri": "https://localhost:8080/"
        },
        "id": "J39bfaaeKmL0",
        "outputId": "25e7cd96-1594-4916-8d48-1d4f86ca5fc5"
      },
      "execution_count": 3,
      "outputs": [
        {
          "output_type": "stream",
          "name": "stdout",
          "text": [
            "   A\n",
            "a  1\n",
            "b  2\n",
            "c  3 \n",
            "\n",
            "   B\n",
            "a  4\n",
            "b  5\n",
            "c  6 \n",
            "\n",
            "   A  B\n",
            "a  1  4\n",
            "b  2  5\n",
            "c  3  6\n"
          ]
        }
      ]
    },
    {
      "cell_type": "code",
      "source": [
        "import pandas as pd\n",
        "\n",
        "df1=pd.DataFrame ({'ID':[1, 2, 3], 'Name':['Alice', 'Bob','Charlie']})\n",
        "df2=pd.DataFrame ({'ID': [1, 3, 2], 'Score':['90','85','80']})\n",
        "\n",
        "print(df1, \"\\n\")\n",
        "print(df2, \"\\n\")\n",
        "\n",
        "#performing merged on \"ID\"\n",
        "\n",
        "res=pd.merge(df1, df2, on=\"ID\")\n",
        "print(res)"
      ],
      "metadata": {
        "colab": {
          "base_uri": "https://localhost:8080/"
        },
        "id": "pV2KnIH9MENP",
        "outputId": "7d942cc4-13e4-4700-8ee7-48908e12fb3b"
      },
      "execution_count": 8,
      "outputs": [
        {
          "output_type": "stream",
          "name": "stdout",
          "text": [
            "   ID     Name\n",
            "0   1    Alice\n",
            "1   2      Bob\n",
            "2   3  Charlie \n",
            "\n",
            "   ID Score\n",
            "0   1    90\n",
            "1   3    85\n",
            "2   2    80 \n",
            "\n",
            "   ID     Name Score\n",
            "0   1    Alice    90\n",
            "1   2      Bob    80\n",
            "2   3  Charlie    85\n"
          ]
        }
      ]
    },
    {
      "cell_type": "code",
      "source": [
        "#simply index\n",
        "from numpy import array\n",
        "\n",
        "#define array\n",
        "data =array([11, 22, 33, 44, 55])\n",
        "#index data\n",
        "print(data[0])\n",
        "print(data[4])\n"
      ],
      "metadata": {
        "colab": {
          "base_uri": "https://localhost:8080/"
        },
        "id": "aUJXbAzdONrp",
        "outputId": "cf04b48d-b1cf-489f-ac52-7ee9833e2779"
      },
      "execution_count": 9,
      "outputs": [
        {
          "output_type": "stream",
          "name": "stdout",
          "text": [
            "11\n",
            "55\n"
          ]
        }
      ]
    },
    {
      "cell_type": "code",
      "source": [
        "import numpy as np\n",
        "\n",
        "#creating a 1D NumPy array\n",
        "arr = np.array([1, 2, 3, 4, 5, 6])\n",
        "\n",
        "#Reshaping the 1D array into a 2D array with 2 rows and 3 columns\n",
        "reshaped_arr = np.reshape(arr, (2, 3))\n",
        "print(reshaped_arr)"
      ],
      "metadata": {
        "colab": {
          "base_uri": "https://localhost:8080/"
        },
        "id": "VZppGjlwPH-J",
        "outputId": "ae860657-c555-476e-b6f4-3d94114d5708"
      },
      "execution_count": 13,
      "outputs": [
        {
          "output_type": "stream",
          "name": "stdout",
          "text": [
            "[[1 2 3]\n",
            " [4 5 6]]\n"
          ]
        }
      ]
    },
    {
      "cell_type": "code",
      "source": [],
      "metadata": {
        "id": "-eZLMh3XQIqT"
      },
      "execution_count": null,
      "outputs": []
    }
  ]
}