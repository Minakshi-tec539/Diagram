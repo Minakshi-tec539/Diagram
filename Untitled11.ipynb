{
  "nbformat": 4,
  "nbformat_minor": 0,
  "metadata": {
    "colab": {
      "provenance": [],
      "authorship_tag": "ABX9TyMtlzveBudyrdkWCy0riFzw",
      "include_colab_link": true
    },
    "kernelspec": {
      "name": "python3",
      "display_name": "Python 3"
    },
    "language_info": {
      "name": "python"
    }
  },
  "cells": [
    {
      "cell_type": "markdown",
      "metadata": {
        "id": "view-in-github",
        "colab_type": "text"
      },
      "source": [
        "<a href=\"https://colab.research.google.com/github/Minakshi-tec539/Diagram/blob/main/Untitled11.ipynb\" target=\"_parent\"><img src=\"https://colab.research.google.com/assets/colab-badge.svg\" alt=\"Open In Colab\"/></a>"
      ]
    },
    {
      "cell_type": "code",
      "execution_count": 5,
      "metadata": {
        "colab": {
          "base_uri": "https://localhost:8080/"
        },
        "id": "TKWGNx6GEWp7",
        "outputId": "80ba47a2-f8b1-43d1-e02d-f2874082c6f9"
      },
      "outputs": [
        {
          "output_type": "stream",
          "name": "stdout",
          "text": [
            "Please enter the marks (1-100):67\n",
            "Grade D\n"
          ]
        }
      ],
      "source": [
        "marks=float(input(\"Please enter the marks (1-100):\"))\n",
        "#Validate the marks are within a possible range 0-100\n",
        "if 0<=marks<=100:\n",
        " if marks>=90:\n",
        "  grade='A'\n",
        " elif marks>=80:\n",
        "  grade='B'\n",
        " elif marks>=70:\n",
        "  grade='C'\n",
        " elif marks>=60:\n",
        "  grade='D'\n",
        " else:\n",
        "  grade='F'\n",
        " print(\"Grade\", grade)\n",
        "else:\n",
        "  print(\"Invalid marks,Please enter value between 0-100\")"
      ]
    }
  ]
}